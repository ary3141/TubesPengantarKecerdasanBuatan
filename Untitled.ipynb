{
 "cells": [
  {
   "cell_type": "code",
   "execution_count": 1,
   "id": "c1d1db17",
   "metadata": {},
   "outputs": [],
   "source": [
    "import pandas as pd\n",
    "import numpy as np\n",
    "import matplotlib.pyplot as plt\n",
    "from matplotlib.colors import ListedColormap\n",
    "from sklearn.model_selection import train_test_split"
   ]
  },
  {
   "cell_type": "code",
   "execution_count": 19,
   "id": "56e45f83",
   "metadata": {},
   "outputs": [
    {
     "data": {
      "text/html": [
       "<div>\n",
       "<style scoped>\n",
       "    .dataframe tbody tr th:only-of-type {\n",
       "        vertical-align: middle;\n",
       "    }\n",
       "\n",
       "    .dataframe tbody tr th {\n",
       "        vertical-align: top;\n",
       "    }\n",
       "\n",
       "    .dataframe thead th {\n",
       "        text-align: right;\n",
       "    }\n",
       "</style>\n",
       "<table border=\"1\" class=\"dataframe\">\n",
       "  <thead>\n",
       "    <tr style=\"text-align: right;\">\n",
       "      <th></th>\n",
       "      <th>SC-5</th>\n",
       "      <th>SP-6</th>\n",
       "      <th>SHBd</th>\n",
       "      <th>minHaaCH</th>\n",
       "      <th>maxwHBa</th>\n",
       "      <th>FMF</th>\n",
       "      <th>Class</th>\n",
       "    </tr>\n",
       "  </thead>\n",
       "  <tbody>\n",
       "    <tr>\n",
       "      <th>0</th>\n",
       "      <td>0.540936</td>\n",
       "      <td>7.64192</td>\n",
       "      <td>0.162171</td>\n",
       "      <td>0.445270</td>\n",
       "      <td>2.205570</td>\n",
       "      <td>0.467742</td>\n",
       "      <td>High_BFE</td>\n",
       "    </tr>\n",
       "    <tr>\n",
       "      <th>1</th>\n",
       "      <td>0.815332</td>\n",
       "      <td>6.59011</td>\n",
       "      <td>0.000000</td>\n",
       "      <td>0.497445</td>\n",
       "      <td>2.003140</td>\n",
       "      <td>0.415385</td>\n",
       "      <td>High_BFE</td>\n",
       "    </tr>\n",
       "    <tr>\n",
       "      <th>2</th>\n",
       "      <td>0.734399</td>\n",
       "      <td>6.85522</td>\n",
       "      <td>0.000000</td>\n",
       "      <td>0.507748</td>\n",
       "      <td>1.885900</td>\n",
       "      <td>0.400000</td>\n",
       "      <td>High_BFE</td>\n",
       "    </tr>\n",
       "    <tr>\n",
       "      <th>3</th>\n",
       "      <td>0.624557</td>\n",
       "      <td>7.00949</td>\n",
       "      <td>0.450300</td>\n",
       "      <td>0.483648</td>\n",
       "      <td>2.027570</td>\n",
       "      <td>0.500000</td>\n",
       "      <td>High_BFE</td>\n",
       "    </tr>\n",
       "    <tr>\n",
       "      <th>4</th>\n",
       "      <td>0.460290</td>\n",
       "      <td>4.92643</td>\n",
       "      <td>0.448998</td>\n",
       "      <td>0.482293</td>\n",
       "      <td>2.064380</td>\n",
       "      <td>0.536585</td>\n",
       "      <td>High_BFE</td>\n",
       "    </tr>\n",
       "    <tr>\n",
       "      <th>...</th>\n",
       "      <td>...</td>\n",
       "      <td>...</td>\n",
       "      <td>...</td>\n",
       "      <td>...</td>\n",
       "      <td>...</td>\n",
       "      <td>...</td>\n",
       "      <td>...</td>\n",
       "    </tr>\n",
       "    <tr>\n",
       "      <th>95</th>\n",
       "      <td>0.083333</td>\n",
       "      <td>3.50569</td>\n",
       "      <td>0.000000</td>\n",
       "      <td>0.438522</td>\n",
       "      <td>2.221560</td>\n",
       "      <td>0.307692</td>\n",
       "      <td>Low_BFE</td>\n",
       "    </tr>\n",
       "    <tr>\n",
       "      <th>96</th>\n",
       "      <td>0.707068</td>\n",
       "      <td>4.58381</td>\n",
       "      <td>0.000000</td>\n",
       "      <td>0.000000</td>\n",
       "      <td>0.011251</td>\n",
       "      <td>0.153846</td>\n",
       "      <td>Low_BFE</td>\n",
       "    </tr>\n",
       "    <tr>\n",
       "      <th>97</th>\n",
       "      <td>0.216506</td>\n",
       "      <td>3.09490</td>\n",
       "      <td>0.000000</td>\n",
       "      <td>0.000000</td>\n",
       "      <td>0.000000</td>\n",
       "      <td>0.326531</td>\n",
       "      <td>Low_BFE</td>\n",
       "    </tr>\n",
       "    <tr>\n",
       "      <th>98</th>\n",
       "      <td>0.271018</td>\n",
       "      <td>2.39997</td>\n",
       "      <td>0.000000</td>\n",
       "      <td>0.356727</td>\n",
       "      <td>2.346090</td>\n",
       "      <td>0.342105</td>\n",
       "      <td>Low_BFE</td>\n",
       "    </tr>\n",
       "    <tr>\n",
       "      <th>99</th>\n",
       "      <td>0.136083</td>\n",
       "      <td>3.28751</td>\n",
       "      <td>0.000000</td>\n",
       "      <td>0.380529</td>\n",
       "      <td>2.346010</td>\n",
       "      <td>0.375000</td>\n",
       "      <td>Low_BFE</td>\n",
       "    </tr>\n",
       "  </tbody>\n",
       "</table>\n",
       "<p>100 rows × 7 columns</p>\n",
       "</div>"
      ],
      "text/plain": [
       "        SC-5     SP-6      SHBd  minHaaCH   maxwHBa       FMF     Class\n",
       "0   0.540936  7.64192  0.162171  0.445270  2.205570  0.467742  High_BFE\n",
       "1   0.815332  6.59011  0.000000  0.497445  2.003140  0.415385  High_BFE\n",
       "2   0.734399  6.85522  0.000000  0.507748  1.885900  0.400000  High_BFE\n",
       "3   0.624557  7.00949  0.450300  0.483648  2.027570  0.500000  High_BFE\n",
       "4   0.460290  4.92643  0.448998  0.482293  2.064380  0.536585  High_BFE\n",
       "..       ...      ...       ...       ...       ...       ...       ...\n",
       "95  0.083333  3.50569  0.000000  0.438522  2.221560  0.307692   Low_BFE\n",
       "96  0.707068  4.58381  0.000000  0.000000  0.011251  0.153846   Low_BFE\n",
       "97  0.216506  3.09490  0.000000  0.000000  0.000000  0.326531   Low_BFE\n",
       "98  0.271018  2.39997  0.000000  0.356727  2.346090  0.342105   Low_BFE\n",
       "99  0.136083  3.28751  0.000000  0.380529  2.346010  0.375000   Low_BFE\n",
       "\n",
       "[100 rows x 7 columns]"
      ]
     },
     "execution_count": 19,
     "metadata": {},
     "output_type": "execute_result"
    }
   ],
   "source": [
    "df = pd.read_csv('SIRTUIN6.csv')\n",
    "df"
   ]
  },
  {
   "cell_type": "code",
   "execution_count": 3,
   "id": "e4545a1c",
   "metadata": {},
   "outputs": [],
   "source": [
    "df = pd.get_dummies(df, columns=['Class'], drop_first=True)"
   ]
  },
  {
   "cell_type": "code",
   "execution_count": 4,
   "id": "745b8007",
   "metadata": {},
   "outputs": [
    {
     "data": {
      "text/plain": [
       "SC-5            -0.371513\n",
       "SP-6            -0.676380\n",
       "SHBd             0.006654\n",
       "minHaaCH        -0.268568\n",
       "maxwHBa         -0.149368\n",
       "FMF             -0.608034\n",
       "Class_Low_BFE    1.000000\n",
       "Name: Class_Low_BFE, dtype: float64"
      ]
     },
     "execution_count": 4,
     "metadata": {},
     "output_type": "execute_result"
    }
   ],
   "source": [
    "df.corr()['Class_Low_BFE']"
   ]
  },
  {
   "cell_type": "code",
   "execution_count": 6,
   "id": "4b0341e8",
   "metadata": {},
   "outputs": [],
   "source": [
    "X = df[['SP-6', 'FMF','SC-5','SHBd','minHaaCH','maxwHBa']]\n",
    "y = df['Class_Low_BFE'] \n",
    "X_train, X_test, y_train, y_test = train_test_split(X,y, test_size = 0.2, random_state=1234)"
   ]
  },
  {
   "cell_type": "code",
   "execution_count": 7,
   "id": "820babc6",
   "metadata": {},
   "outputs": [
    {
     "data": {
      "image/png": "[encoded data removed]",
      "text/plain": [
       "<Figure size 640x480 with 1 Axes>"
      ]
     },
     "metadata": {},
     "output_type": "display_data"
    }
   ],
   "source": [
    "cmap = ListedColormap(['blue', 'orange'])\n",
    "\n",
    "plt.figure()\n",
    "plt.scatter(X['SP-6'], X['FMF'], c=y, cmap=cmap, edgecolor='k', s=20)  \n",
    "plt.xlabel('SP-6')\n",
    "plt.ylabel('FMF')\n",
    "plt.title('Scatter Plot of SP-6 vs FMF')\n",
    "plt.show()\n"
   ]
  },
  {
   "cell_type": "code",
   "execution_count": 8,
   "id": "3ae8e317",
   "metadata": {},
   "outputs": [],
   "source": [
    "def euclidean_distance(x1, x2):\n",
    "    distance = np.sqrt(np.sum((x1 - x2) ** 2))\n",
    "    return distance\n",
    "\n",
    "class KNN:\n",
    "    def __init__(self, k=10):\n",
    "        self.k = k\n",
    "    \n",
    "    def fit(self, X, y):\n",
    "        self.X_train = np.array(X)  \n",
    "        self.y_train = np.array(y)\n",
    "    \n",
    "    def predict(self, X):\n",
    "        X = np.array(X)  \n",
    "        predictions = [self._predict(x) for x in X]\n",
    "        return predictions\n",
    "    \n",
    "    def _predict(self, x):\n",
    "        distances = [euclidean_distance(x, X_train) for X_train in self.X_train]\n",
    "        k_indices = np.argsort(distances)[:self.k]\n",
    "        k_nearest_labels = [self.y_train[i] for i in k_indices]\n",
    "\n",
    "        most_common = max(set(k_nearest_labels), key=k_nearest_labels.count)\n",
    "        return most_common"
   ]
  },
  {
   "cell_type": "code",
   "execution_count": 9,
   "id": "ab0fe31f",
   "metadata": {},
   "outputs": [],
   "source": [
    "clf = KNN(k=5)\n",
    "\n",
    "clf.fit(X_train, y_train)\n",
    "\n",
    "predictions = clf.predict(X_test)"
   ]
  },
  {
   "cell_type": "code",
   "execution_count": 10,
   "id": "5fb59ea4",
   "metadata": {},
   "outputs": [
    {
     "data": {
      "text/plain": [
       "[False,\n",
       " False,\n",
       " True,\n",
       " False,\n",
       " True,\n",
       " True,\n",
       " True,\n",
       " False,\n",
       " False,\n",
       " False,\n",
       " False,\n",
       " True,\n",
       " False,\n",
       " True,\n",
       " True,\n",
       " True,\n",
       " True,\n",
       " False,\n",
       " True,\n",
       " True]"
      ]
     },
     "execution_count": 10,
     "metadata": {},
     "output_type": "execute_result"
    }
   ],
   "source": [
    "predictions"
   ]
  },
  {
   "cell_type": "code",
   "execution_count": 11,
   "id": "3f40413d",
   "metadata": {},
   "outputs": [
    {
     "data": {
      "text/plain": [
       "40    False\n",
       "35    False\n",
       "81     True\n",
       "61     True\n",
       "98     True\n",
       "68     True\n",
       "85     True\n",
       "27    False\n",
       "39    False\n",
       "42    False\n",
       "33    False\n",
       "59     True\n",
       "63     True\n",
       "94     True\n",
       "56     True\n",
       "87     True\n",
       "96     True\n",
       "1     False\n",
       "71     True\n",
       "82     True\n",
       "Name: Class_Low_BFE, dtype: bool"
      ]
     },
     "execution_count": 11,
     "metadata": {},
     "output_type": "execute_result"
    }
   ],
   "source": [
    "y_test"
   ]
  },
  {
   "cell_type": "code",
   "execution_count": 17,
   "id": "450b56bb",
   "metadata": {},
   "outputs": [],
   "source": [
    "acc = float(np.sum(predictions == y_test))/float(len(y_test))"
   ]
  },
  {
   "cell_type": "code",
   "execution_count": 20,
   "id": "f9ad14f3",
   "metadata": {},
   "outputs": [
    {
     "ename": "NameError",
     "evalue": "name 'true' is not defined",
     "output_type": "error",
     "traceback": [
      "\u001b[0;31m---------------------------------------------------------------------------\u001b[0m",
      "\u001b[0;31mNameError\u001b[0m                                 Traceback (most recent call last)",
      "Cell \u001b[0;32mIn[20], line 1\u001b[0m\n\u001b[0;32m----> 1\u001b[0m \u001b[38;5;28;01mif\u001b[39;00m predictions \u001b[38;5;241m==\u001b[39m \u001b[43mtrue\u001b[49m:\n\u001b[1;32m      2\u001b[0m     \u001b[38;5;28mprint\u001b[39m(\u001b[38;5;124m\"\u001b[39m\u001b[38;5;124mhigh BFE\u001b[39m\u001b[38;5;124m\"\u001b[39m)\n\u001b[1;32m      3\u001b[0m \u001b[38;5;28;01melse\u001b[39;00m:\n",
      "\u001b[0;31mNameError\u001b[0m: name 'true' is not defined"
     ]
    }
   ],
   "source": [
    "if predictions == true:\n",
    "    print(\"high BFE\")\n",
    "else:\n",
    "    print(\"Low BFE\")"
   ]
  },
  {
   "cell_type": "code",
   "execution_count": null,
   "id": "5a2d5f23",
   "metadata": {},
   "outputs": [],
   "source": []
  }
 ],
 "metadata": {
  "kernelspec": {
   "display_name": "Python 3 (ipykernel)",
   "language": "python",
   "name": "python3"
  },
  "language_info": {
   "codemirror_mode": {
    "name": "ipython",
    "version": 3
   },
   "file_extension": ".py",
   "mimetype": "text/x-python",
   "name": "python",
   "nbconvert_exporter": "python",
   "pygments_lexer": "ipython3",
   "version": "3.10.9"
  }
 },
 "nbformat": 4,
 "nbformat_minor": 5
}
